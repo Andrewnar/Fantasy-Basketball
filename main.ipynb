{
 "metadata": {
  "language_info": {
   "codemirror_mode": {
    "name": "ipython",
    "version": 3
   },
   "file_extension": ".py",
   "mimetype": "text/x-python",
   "name": "python",
   "nbconvert_exporter": "python",
   "pygments_lexer": "ipython3",
   "version": "3.8.3-final"
  },
  "orig_nbformat": 2,
  "kernelspec": {
   "name": "python3",
   "display_name": "Python 3",
   "language": "python"
  }
 },
 "nbformat": 4,
 "nbformat_minor": 2,
 "cells": [
  {
   "cell_type": "code",
   "execution_count": 57,
   "metadata": {},
   "outputs": [
    {
     "output_type": "execute_result",
     "data": {
      "text/plain": [
       "                        GAME_ID          TEAM       OPPT  TEAM_SCORE  \\\n",
       "0  /boxscores/202012310UTA.html  Phoenix Suns  Utah Jazz         106   \n",
       "1  /boxscores/202012310UTA.html  Phoenix Suns  Utah Jazz         106   \n",
       "2  /boxscores/202012310UTA.html  Phoenix Suns  Utah Jazz         106   \n",
       "3  /boxscores/202012310UTA.html  Phoenix Suns  Utah Jazz         106   \n",
       "4  /boxscores/202012310UTA.html  Phoenix Suns  Utah Jazz         106   \n",
       "\n",
       "   OPPT_SCORE RESULT  SCORE_DIFF         PLAYER         MP  FG  ...  ORB  DRB  \\\n",
       "0          95      W          11    Jae Crowder  36.683333   6  ...    1    5   \n",
       "1          95      W          11  Mikal Bridges  36.533333   6  ...    1    5   \n",
       "2          95      W          11   Devin Booker  35.300000  10  ...    0    3   \n",
       "3          95      W          11     Chris Paul  29.833333   4  ...    1    3   \n",
       "4          95      W          11  Deandre Ayton  28.333333   2  ...    2    7   \n",
       "\n",
       "   TRB  AST  STL  BLK  TOV  PF  PLUS_MINUS  PTS  \n",
       "0    6    1    2    1    1   3          10   16  \n",
       "1    6    0    2    1    0   0          -2   16  \n",
       "2    3    7    0    1    6   3          -2   25  \n",
       "3    4    8    0    0    3   2          12   11  \n",
       "4    9    3    1    2    1   3          -1    4  \n",
       "\n",
       "[5 rows x 25 columns]"
      ],
      "text/html": "<div>\n<style scoped>\n    .dataframe tbody tr th:only-of-type {\n        vertical-align: middle;\n    }\n\n    .dataframe tbody tr th {\n        vertical-align: top;\n    }\n\n    .dataframe thead th {\n        text-align: right;\n    }\n</style>\n<table border=\"1\" class=\"dataframe\">\n  <thead>\n    <tr style=\"text-align: right;\">\n      <th></th>\n      <th>GAME_ID</th>\n      <th>TEAM</th>\n      <th>OPPT</th>\n      <th>TEAM_SCORE</th>\n      <th>OPPT_SCORE</th>\n      <th>RESULT</th>\n      <th>SCORE_DIFF</th>\n      <th>PLAYER</th>\n      <th>MP</th>\n      <th>FG</th>\n      <th>...</th>\n      <th>ORB</th>\n      <th>DRB</th>\n      <th>TRB</th>\n      <th>AST</th>\n      <th>STL</th>\n      <th>BLK</th>\n      <th>TOV</th>\n      <th>PF</th>\n      <th>PLUS_MINUS</th>\n      <th>PTS</th>\n    </tr>\n  </thead>\n  <tbody>\n    <tr>\n      <th>0</th>\n      <td>/boxscores/202012310UTA.html</td>\n      <td>Phoenix Suns</td>\n      <td>Utah Jazz</td>\n      <td>106</td>\n      <td>95</td>\n      <td>W</td>\n      <td>11</td>\n      <td>Jae Crowder</td>\n      <td>36.683333</td>\n      <td>6</td>\n      <td>...</td>\n      <td>1</td>\n      <td>5</td>\n      <td>6</td>\n      <td>1</td>\n      <td>2</td>\n      <td>1</td>\n      <td>1</td>\n      <td>3</td>\n      <td>10</td>\n      <td>16</td>\n    </tr>\n    <tr>\n      <th>1</th>\n      <td>/boxscores/202012310UTA.html</td>\n      <td>Phoenix Suns</td>\n      <td>Utah Jazz</td>\n      <td>106</td>\n      <td>95</td>\n      <td>W</td>\n      <td>11</td>\n      <td>Mikal Bridges</td>\n      <td>36.533333</td>\n      <td>6</td>\n      <td>...</td>\n      <td>1</td>\n      <td>5</td>\n      <td>6</td>\n      <td>0</td>\n      <td>2</td>\n      <td>1</td>\n      <td>0</td>\n      <td>0</td>\n      <td>-2</td>\n      <td>16</td>\n    </tr>\n    <tr>\n      <th>2</th>\n      <td>/boxscores/202012310UTA.html</td>\n      <td>Phoenix Suns</td>\n      <td>Utah Jazz</td>\n      <td>106</td>\n      <td>95</td>\n      <td>W</td>\n      <td>11</td>\n      <td>Devin Booker</td>\n      <td>35.300000</td>\n      <td>10</td>\n      <td>...</td>\n      <td>0</td>\n      <td>3</td>\n      <td>3</td>\n      <td>7</td>\n      <td>0</td>\n      <td>1</td>\n      <td>6</td>\n      <td>3</td>\n      <td>-2</td>\n      <td>25</td>\n    </tr>\n    <tr>\n      <th>3</th>\n      <td>/boxscores/202012310UTA.html</td>\n      <td>Phoenix Suns</td>\n      <td>Utah Jazz</td>\n      <td>106</td>\n      <td>95</td>\n      <td>W</td>\n      <td>11</td>\n      <td>Chris Paul</td>\n      <td>29.833333</td>\n      <td>4</td>\n      <td>...</td>\n      <td>1</td>\n      <td>3</td>\n      <td>4</td>\n      <td>8</td>\n      <td>0</td>\n      <td>0</td>\n      <td>3</td>\n      <td>2</td>\n      <td>12</td>\n      <td>11</td>\n    </tr>\n    <tr>\n      <th>4</th>\n      <td>/boxscores/202012310UTA.html</td>\n      <td>Phoenix Suns</td>\n      <td>Utah Jazz</td>\n      <td>106</td>\n      <td>95</td>\n      <td>W</td>\n      <td>11</td>\n      <td>Deandre Ayton</td>\n      <td>28.333333</td>\n      <td>2</td>\n      <td>...</td>\n      <td>2</td>\n      <td>7</td>\n      <td>9</td>\n      <td>3</td>\n      <td>1</td>\n      <td>2</td>\n      <td>1</td>\n      <td>3</td>\n      <td>-1</td>\n      <td>4</td>\n    </tr>\n  </tbody>\n</table>\n<p>5 rows × 25 columns</p>\n</div>"
     },
     "metadata": {},
     "execution_count": 57
    }
   ],
   "source": [
    "#Data Manipulation of NBA Games.\n",
    "#Importing NBA csv file... Turning it into df... \n",
    "\n",
    "import numpy as np \n",
    "import pandas as pd \n",
    "import matplotlib as plt\n",
    "\n",
    "df = pd.read_csv(r\"C:\\Users\\anarv\\Documents\\GitHub\\Fantasy-Basketball\\games_2010s.csv\")\n",
    "df.head()"
   ]
  },
  {
   "cell_type": "code",
   "execution_count": 60,
   "metadata": {},
   "outputs": [
    {
     "output_type": "execute_result",
     "data": {
      "text/plain": [
       "                              MP        PTS  perMinute\n",
       "PLAYER                                                \n",
       "James Harden           37.072034  36.932203   0.996228\n",
       "Ja Morant              27.094444  26.333333   0.971909\n",
       "Giannis Antetokounmpo  29.846875  25.156250   0.842844\n",
       "Karl-Anthony Towns     31.548837  25.930233   0.821908\n",
       "Joel Embiid            31.193841  25.260870   0.809803\n",
       "...                          ...        ...        ...\n",
       "Robert Covington       30.633333   5.500000   0.179543\n",
       "Jordan McLaughlin      17.183333   3.000000   0.174588\n",
       "Chuma Okeke            18.286667   3.000000   0.164054\n",
       "Isaac Okoro            37.591667   5.500000   0.146309\n",
       "Aleksej Pokusevski     16.387500   1.250000   0.076278\n",
       "\n",
       "[335 rows x 3 columns]"
      ],
      "text/html": "<div>\n<style scoped>\n    .dataframe tbody tr th:only-of-type {\n        vertical-align: middle;\n    }\n\n    .dataframe tbody tr th {\n        vertical-align: top;\n    }\n\n    .dataframe thead th {\n        text-align: right;\n    }\n</style>\n<table border=\"1\" class=\"dataframe\">\n  <thead>\n    <tr style=\"text-align: right;\">\n      <th></th>\n      <th>MP</th>\n      <th>PTS</th>\n      <th>perMinute</th>\n    </tr>\n    <tr>\n      <th>PLAYER</th>\n      <th></th>\n      <th></th>\n      <th></th>\n    </tr>\n  </thead>\n  <tbody>\n    <tr>\n      <th>James Harden</th>\n      <td>37.072034</td>\n      <td>36.932203</td>\n      <td>0.996228</td>\n    </tr>\n    <tr>\n      <th>Ja Morant</th>\n      <td>27.094444</td>\n      <td>26.333333</td>\n      <td>0.971909</td>\n    </tr>\n    <tr>\n      <th>Giannis Antetokounmpo</th>\n      <td>29.846875</td>\n      <td>25.156250</td>\n      <td>0.842844</td>\n    </tr>\n    <tr>\n      <th>Karl-Anthony Towns</th>\n      <td>31.548837</td>\n      <td>25.930233</td>\n      <td>0.821908</td>\n    </tr>\n    <tr>\n      <th>Joel Embiid</th>\n      <td>31.193841</td>\n      <td>25.260870</td>\n      <td>0.809803</td>\n    </tr>\n    <tr>\n      <th>...</th>\n      <td>...</td>\n      <td>...</td>\n      <td>...</td>\n    </tr>\n    <tr>\n      <th>Robert Covington</th>\n      <td>30.633333</td>\n      <td>5.500000</td>\n      <td>0.179543</td>\n    </tr>\n    <tr>\n      <th>Jordan McLaughlin</th>\n      <td>17.183333</td>\n      <td>3.000000</td>\n      <td>0.174588</td>\n    </tr>\n    <tr>\n      <th>Chuma Okeke</th>\n      <td>18.286667</td>\n      <td>3.000000</td>\n      <td>0.164054</td>\n    </tr>\n    <tr>\n      <th>Isaac Okoro</th>\n      <td>37.591667</td>\n      <td>5.500000</td>\n      <td>0.146309</td>\n    </tr>\n    <tr>\n      <th>Aleksej Pokusevski</th>\n      <td>16.387500</td>\n      <td>1.250000</td>\n      <td>0.076278</td>\n    </tr>\n  </tbody>\n</table>\n<p>335 rows × 3 columns</p>\n</div>"
     },
     "metadata": {},
     "execution_count": 60
    }
   ],
   "source": [
    "#Creates function avg which finds the avg of key statistic (x) during the season (s)\n",
    "def avg(x, s):\n",
    "    #Creates df for each player in season s\n",
    "    year1df = df[df['GAME_ID'].str.contains(str(s) + str(0))] #1st half of the season (Oct - Dec)\n",
    "    year2df = df[df['GAME_ID'].str.contains(str(s + 1) + str(1))] #2nd half of the season (Jan - Apr)\n",
    "    yeardf = pd.concat([year1df, year2df], ignore_index = False, sort = False)\n",
    "    \n",
    "\n",
    "    #Takes avg XPM ((variable) x per minute) of each player in season s\n",
    "    perPlayer = yeardf.loc[:, ['PLAYER', 'MP', x]].groupby('PLAYER')\n",
    "\n",
    "    #Adds XPM columns dividing x by minutes played\n",
    "    avgsdf = perPlayer.mean()\n",
    "    avgsdf['perMinute'] = avgsdf[x] / avgsdf['MP']\n",
    "\n",
    "    #Adds minimum requirement of minutes played so not to pick active players\n",
    "    avgsdf = avgsdf.sort_values(by = ['perMinute'], ascending = False) \n",
    "    return avgsdf[avgsdf.MP > 15]\n",
    "\n",
    "#Test case for most points per game in 2019-2020 season\n",
    "avg('PTS', 2019)"
   ]
  },
  {
   "cell_type": "code",
   "execution_count": null,
   "metadata": {},
   "outputs": [],
   "source": []
  }
 ]
}