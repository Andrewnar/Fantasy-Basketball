{
 "metadata": {
  "language_info": {
   "codemirror_mode": {
    "name": "ipython",
    "version": 3
   },
   "file_extension": ".py",
   "mimetype": "text/x-python",
   "name": "python",
   "nbconvert_exporter": "python",
   "pygments_lexer": "ipython3",
   "version": "3.8.3-final"
  },
  "orig_nbformat": 2,
  "kernelspec": {
   "name": "python3",
   "display_name": "Python 3",
   "language": "python"
  }
 },
 "nbformat": 4,
 "nbformat_minor": 2,
 "cells": [
  {
   "cell_type": "code",
   "execution_count": 73,
   "metadata": {},
   "outputs": [
    {
     "output_type": "execute_result",
     "data": {
      "text/plain": [
       "                        GAME_ID          TEAM       OPPT  TEAM_SCORE  \\\n",
       "0  /boxscores/202012310UTA.html  Phoenix Suns  Utah Jazz         106   \n",
       "1  /boxscores/202012310UTA.html  Phoenix Suns  Utah Jazz         106   \n",
       "2  /boxscores/202012310UTA.html  Phoenix Suns  Utah Jazz         106   \n",
       "3  /boxscores/202012310UTA.html  Phoenix Suns  Utah Jazz         106   \n",
       "4  /boxscores/202012310UTA.html  Phoenix Suns  Utah Jazz         106   \n",
       "\n",
       "   OPPT_SCORE RESULT  SCORE_DIFF         PLAYER         MP  FG  ...  ORB  DRB  \\\n",
       "0          95      W          11    Jae Crowder  36.683333   6  ...    1    5   \n",
       "1          95      W          11  Mikal Bridges  36.533333   6  ...    1    5   \n",
       "2          95      W          11   Devin Booker  35.300000  10  ...    0    3   \n",
       "3          95      W          11     Chris Paul  29.833333   4  ...    1    3   \n",
       "4          95      W          11  Deandre Ayton  28.333333   2  ...    2    7   \n",
       "\n",
       "   TRB  AST  STL  BLK  TOV  PF  PLUS_MINUS  PTS  \n",
       "0    6    1    2    1    1   3          10   16  \n",
       "1    6    0    2    1    0   0          -2   16  \n",
       "2    3    7    0    1    6   3          -2   25  \n",
       "3    4    8    0    0    3   2          12   11  \n",
       "4    9    3    1    2    1   3          -1    4  \n",
       "\n",
       "[5 rows x 25 columns]"
      ],
      "text/html": "<div>\n<style scoped>\n    .dataframe tbody tr th:only-of-type {\n        vertical-align: middle;\n    }\n\n    .dataframe tbody tr th {\n        vertical-align: top;\n    }\n\n    .dataframe thead th {\n        text-align: right;\n    }\n</style>\n<table border=\"1\" class=\"dataframe\">\n  <thead>\n    <tr style=\"text-align: right;\">\n      <th></th>\n      <th>GAME_ID</th>\n      <th>TEAM</th>\n      <th>OPPT</th>\n      <th>TEAM_SCORE</th>\n      <th>OPPT_SCORE</th>\n      <th>RESULT</th>\n      <th>SCORE_DIFF</th>\n      <th>PLAYER</th>\n      <th>MP</th>\n      <th>FG</th>\n      <th>...</th>\n      <th>ORB</th>\n      <th>DRB</th>\n      <th>TRB</th>\n      <th>AST</th>\n      <th>STL</th>\n      <th>BLK</th>\n      <th>TOV</th>\n      <th>PF</th>\n      <th>PLUS_MINUS</th>\n      <th>PTS</th>\n    </tr>\n  </thead>\n  <tbody>\n    <tr>\n      <th>0</th>\n      <td>/boxscores/202012310UTA.html</td>\n      <td>Phoenix Suns</td>\n      <td>Utah Jazz</td>\n      <td>106</td>\n      <td>95</td>\n      <td>W</td>\n      <td>11</td>\n      <td>Jae Crowder</td>\n      <td>36.683333</td>\n      <td>6</td>\n      <td>...</td>\n      <td>1</td>\n      <td>5</td>\n      <td>6</td>\n      <td>1</td>\n      <td>2</td>\n      <td>1</td>\n      <td>1</td>\n      <td>3</td>\n      <td>10</td>\n      <td>16</td>\n    </tr>\n    <tr>\n      <th>1</th>\n      <td>/boxscores/202012310UTA.html</td>\n      <td>Phoenix Suns</td>\n      <td>Utah Jazz</td>\n      <td>106</td>\n      <td>95</td>\n      <td>W</td>\n      <td>11</td>\n      <td>Mikal Bridges</td>\n      <td>36.533333</td>\n      <td>6</td>\n      <td>...</td>\n      <td>1</td>\n      <td>5</td>\n      <td>6</td>\n      <td>0</td>\n      <td>2</td>\n      <td>1</td>\n      <td>0</td>\n      <td>0</td>\n      <td>-2</td>\n      <td>16</td>\n    </tr>\n    <tr>\n      <th>2</th>\n      <td>/boxscores/202012310UTA.html</td>\n      <td>Phoenix Suns</td>\n      <td>Utah Jazz</td>\n      <td>106</td>\n      <td>95</td>\n      <td>W</td>\n      <td>11</td>\n      <td>Devin Booker</td>\n      <td>35.300000</td>\n      <td>10</td>\n      <td>...</td>\n      <td>0</td>\n      <td>3</td>\n      <td>3</td>\n      <td>7</td>\n      <td>0</td>\n      <td>1</td>\n      <td>6</td>\n      <td>3</td>\n      <td>-2</td>\n      <td>25</td>\n    </tr>\n    <tr>\n      <th>3</th>\n      <td>/boxscores/202012310UTA.html</td>\n      <td>Phoenix Suns</td>\n      <td>Utah Jazz</td>\n      <td>106</td>\n      <td>95</td>\n      <td>W</td>\n      <td>11</td>\n      <td>Chris Paul</td>\n      <td>29.833333</td>\n      <td>4</td>\n      <td>...</td>\n      <td>1</td>\n      <td>3</td>\n      <td>4</td>\n      <td>8</td>\n      <td>0</td>\n      <td>0</td>\n      <td>3</td>\n      <td>2</td>\n      <td>12</td>\n      <td>11</td>\n    </tr>\n    <tr>\n      <th>4</th>\n      <td>/boxscores/202012310UTA.html</td>\n      <td>Phoenix Suns</td>\n      <td>Utah Jazz</td>\n      <td>106</td>\n      <td>95</td>\n      <td>W</td>\n      <td>11</td>\n      <td>Deandre Ayton</td>\n      <td>28.333333</td>\n      <td>2</td>\n      <td>...</td>\n      <td>2</td>\n      <td>7</td>\n      <td>9</td>\n      <td>3</td>\n      <td>1</td>\n      <td>2</td>\n      <td>1</td>\n      <td>3</td>\n      <td>-1</td>\n      <td>4</td>\n    </tr>\n  </tbody>\n</table>\n<p>5 rows × 25 columns</p>\n</div>"
     },
     "metadata": {},
     "execution_count": 73
    }
   ],
   "source": [
    "#Data Manipulation of NBA Games.\n",
    "#Importing NBA csv file... Turning it into df... \n",
    "\n",
    "import numpy as np \n",
    "import pandas as pd \n",
    "import matplotlib as plt\n",
    "\n",
    "df = pd.read_csv(r\"C:\\Users\\anarv\\Documents\\GitHub\\Fantasy-Basketball\\games_2010s.csv\")\n",
    "df.head()"
   ]
  },
  {
   "cell_type": "code",
   "execution_count": 74,
   "metadata": {},
   "outputs": [
    {
     "output_type": "execute_result",
     "data": {
      "text/plain": [
       "                            GAME_ID                TEAM  \\\n",
       "30545  /boxscores/201906130GSW.html     Toronto Raptors   \n",
       "30546  /boxscores/201906130GSW.html     Toronto Raptors   \n",
       "30547  /boxscores/201906130GSW.html     Toronto Raptors   \n",
       "30548  /boxscores/201906130GSW.html     Toronto Raptors   \n",
       "30549  /boxscores/201906130GSW.html     Toronto Raptors   \n",
       "...                             ...                 ...   \n",
       "1975   /boxscores/202010020LAL.html  Los Angeles Lakers   \n",
       "1976   /boxscores/202010020LAL.html  Los Angeles Lakers   \n",
       "1977   /boxscores/202010020LAL.html  Los Angeles Lakers   \n",
       "1978   /boxscores/202010020LAL.html  Los Angeles Lakers   \n",
       "1979   /boxscores/202010020LAL.html  Los Angeles Lakers   \n",
       "\n",
       "                        OPPT  TEAM_SCORE  OPPT_SCORE RESULT  SCORE_DIFF  \\\n",
       "30545  Golden State Warriors         114         110      W           4   \n",
       "30546  Golden State Warriors         114         110      W           4   \n",
       "30547  Golden State Warriors         114         110      W           4   \n",
       "30548  Golden State Warriors         114         110      W           4   \n",
       "30549  Golden State Warriors         114         110      W           4   \n",
       "...                      ...         ...         ...    ...         ...   \n",
       "1975              Miami Heat         124         114      W          10   \n",
       "1976              Miami Heat         124         114      W          10   \n",
       "1977              Miami Heat         124         114      W          10   \n",
       "1978              Miami Heat         124         114      W          10   \n",
       "1979              Miami Heat         124         114      W          10   \n",
       "\n",
       "                    PLAYER         MP  FG  ...  ORB  DRB  TRB  AST  STL  BLK  \\\n",
       "30545        Pascal Siakam  46.166667  10  ...    2    8   10    3    1    1   \n",
       "30546           Kyle Lowry  41.700000   9  ...    2    5    7   10    3    0   \n",
       "30547        Kawhi Leonard  41.083333   7  ...    1    5    6    3    2    1   \n",
       "30548           Marc Gasol  26.566667   0  ...    3    6    9    4    0    0   \n",
       "30549          Danny Green  17.716667   0  ...    0    1    1    3    1    0   \n",
       "...                    ...        ...  ..  ...  ...  ...  ...  ...  ...  ...   \n",
       "1975       Markieff Morris  15.900000   2  ...    1    4    5    2    0    0   \n",
       "1976            J.R. Smith   3.316667   0  ...    0    0    0    0    0    0   \n",
       "1977   Talen Horton-Tucker   0.000000   0  ...    0    0    0    0    0    0   \n",
       "1978          Jared Dudley   0.000000   0  ...    0    0    0    0    0    0   \n",
       "1979          JaVale McGee   0.000000   0  ...    0    0    0    0    0    0   \n",
       "\n",
       "       TOV  PF  PLUS_MINUS  PTS  \n",
       "30545    2   2           2   26  \n",
       "30546    3   5          16   26  \n",
       "30547    2   4          -2   22  \n",
       "30548    1   4          -7    3  \n",
       "30549    1   1           7    0  \n",
       "...    ...  ..         ...  ...  \n",
       "1975     0   3           3    6  \n",
       "1976     0   2           0    0  \n",
       "1977     0   0           0    0  \n",
       "1978     0   0           0    0  \n",
       "1979     0   0           0    0  \n",
       "\n",
       "[21124 rows x 25 columns]"
      ],
      "text/html": "<div>\n<style scoped>\n    .dataframe tbody tr th:only-of-type {\n        vertical-align: middle;\n    }\n\n    .dataframe tbody tr th {\n        vertical-align: top;\n    }\n\n    .dataframe thead th {\n        text-align: right;\n    }\n</style>\n<table border=\"1\" class=\"dataframe\">\n  <thead>\n    <tr style=\"text-align: right;\">\n      <th></th>\n      <th>GAME_ID</th>\n      <th>TEAM</th>\n      <th>OPPT</th>\n      <th>TEAM_SCORE</th>\n      <th>OPPT_SCORE</th>\n      <th>RESULT</th>\n      <th>SCORE_DIFF</th>\n      <th>PLAYER</th>\n      <th>MP</th>\n      <th>FG</th>\n      <th>...</th>\n      <th>ORB</th>\n      <th>DRB</th>\n      <th>TRB</th>\n      <th>AST</th>\n      <th>STL</th>\n      <th>BLK</th>\n      <th>TOV</th>\n      <th>PF</th>\n      <th>PLUS_MINUS</th>\n      <th>PTS</th>\n    </tr>\n  </thead>\n  <tbody>\n    <tr>\n      <th>30545</th>\n      <td>/boxscores/201906130GSW.html</td>\n      <td>Toronto Raptors</td>\n      <td>Golden State Warriors</td>\n      <td>114</td>\n      <td>110</td>\n      <td>W</td>\n      <td>4</td>\n      <td>Pascal Siakam</td>\n      <td>46.166667</td>\n      <td>10</td>\n      <td>...</td>\n      <td>2</td>\n      <td>8</td>\n      <td>10</td>\n      <td>3</td>\n      <td>1</td>\n      <td>1</td>\n      <td>2</td>\n      <td>2</td>\n      <td>2</td>\n      <td>26</td>\n    </tr>\n    <tr>\n      <th>30546</th>\n      <td>/boxscores/201906130GSW.html</td>\n      <td>Toronto Raptors</td>\n      <td>Golden State Warriors</td>\n      <td>114</td>\n      <td>110</td>\n      <td>W</td>\n      <td>4</td>\n      <td>Kyle Lowry</td>\n      <td>41.700000</td>\n      <td>9</td>\n      <td>...</td>\n      <td>2</td>\n      <td>5</td>\n      <td>7</td>\n      <td>10</td>\n      <td>3</td>\n      <td>0</td>\n      <td>3</td>\n      <td>5</td>\n      <td>16</td>\n      <td>26</td>\n    </tr>\n    <tr>\n      <th>30547</th>\n      <td>/boxscores/201906130GSW.html</td>\n      <td>Toronto Raptors</td>\n      <td>Golden State Warriors</td>\n      <td>114</td>\n      <td>110</td>\n      <td>W</td>\n      <td>4</td>\n      <td>Kawhi Leonard</td>\n      <td>41.083333</td>\n      <td>7</td>\n      <td>...</td>\n      <td>1</td>\n      <td>5</td>\n      <td>6</td>\n      <td>3</td>\n      <td>2</td>\n      <td>1</td>\n      <td>2</td>\n      <td>4</td>\n      <td>-2</td>\n      <td>22</td>\n    </tr>\n    <tr>\n      <th>30548</th>\n      <td>/boxscores/201906130GSW.html</td>\n      <td>Toronto Raptors</td>\n      <td>Golden State Warriors</td>\n      <td>114</td>\n      <td>110</td>\n      <td>W</td>\n      <td>4</td>\n      <td>Marc Gasol</td>\n      <td>26.566667</td>\n      <td>0</td>\n      <td>...</td>\n      <td>3</td>\n      <td>6</td>\n      <td>9</td>\n      <td>4</td>\n      <td>0</td>\n      <td>0</td>\n      <td>1</td>\n      <td>4</td>\n      <td>-7</td>\n      <td>3</td>\n    </tr>\n    <tr>\n      <th>30549</th>\n      <td>/boxscores/201906130GSW.html</td>\n      <td>Toronto Raptors</td>\n      <td>Golden State Warriors</td>\n      <td>114</td>\n      <td>110</td>\n      <td>W</td>\n      <td>4</td>\n      <td>Danny Green</td>\n      <td>17.716667</td>\n      <td>0</td>\n      <td>...</td>\n      <td>0</td>\n      <td>1</td>\n      <td>1</td>\n      <td>3</td>\n      <td>1</td>\n      <td>0</td>\n      <td>1</td>\n      <td>1</td>\n      <td>7</td>\n      <td>0</td>\n    </tr>\n    <tr>\n      <th>...</th>\n      <td>...</td>\n      <td>...</td>\n      <td>...</td>\n      <td>...</td>\n      <td>...</td>\n      <td>...</td>\n      <td>...</td>\n      <td>...</td>\n      <td>...</td>\n      <td>...</td>\n      <td>...</td>\n      <td>...</td>\n      <td>...</td>\n      <td>...</td>\n      <td>...</td>\n      <td>...</td>\n      <td>...</td>\n      <td>...</td>\n      <td>...</td>\n      <td>...</td>\n      <td>...</td>\n    </tr>\n    <tr>\n      <th>1975</th>\n      <td>/boxscores/202010020LAL.html</td>\n      <td>Los Angeles Lakers</td>\n      <td>Miami Heat</td>\n      <td>124</td>\n      <td>114</td>\n      <td>W</td>\n      <td>10</td>\n      <td>Markieff Morris</td>\n      <td>15.900000</td>\n      <td>2</td>\n      <td>...</td>\n      <td>1</td>\n      <td>4</td>\n      <td>5</td>\n      <td>2</td>\n      <td>0</td>\n      <td>0</td>\n      <td>0</td>\n      <td>3</td>\n      <td>3</td>\n      <td>6</td>\n    </tr>\n    <tr>\n      <th>1976</th>\n      <td>/boxscores/202010020LAL.html</td>\n      <td>Los Angeles Lakers</td>\n      <td>Miami Heat</td>\n      <td>124</td>\n      <td>114</td>\n      <td>W</td>\n      <td>10</td>\n      <td>J.R. Smith</td>\n      <td>3.316667</td>\n      <td>0</td>\n      <td>...</td>\n      <td>0</td>\n      <td>0</td>\n      <td>0</td>\n      <td>0</td>\n      <td>0</td>\n      <td>0</td>\n      <td>0</td>\n      <td>2</td>\n      <td>0</td>\n      <td>0</td>\n    </tr>\n    <tr>\n      <th>1977</th>\n      <td>/boxscores/202010020LAL.html</td>\n      <td>Los Angeles Lakers</td>\n      <td>Miami Heat</td>\n      <td>124</td>\n      <td>114</td>\n      <td>W</td>\n      <td>10</td>\n      <td>Talen Horton-Tucker</td>\n      <td>0.000000</td>\n      <td>0</td>\n      <td>...</td>\n      <td>0</td>\n      <td>0</td>\n      <td>0</td>\n      <td>0</td>\n      <td>0</td>\n      <td>0</td>\n      <td>0</td>\n      <td>0</td>\n      <td>0</td>\n      <td>0</td>\n    </tr>\n    <tr>\n      <th>1978</th>\n      <td>/boxscores/202010020LAL.html</td>\n      <td>Los Angeles Lakers</td>\n      <td>Miami Heat</td>\n      <td>124</td>\n      <td>114</td>\n      <td>W</td>\n      <td>10</td>\n      <td>Jared Dudley</td>\n      <td>0.000000</td>\n      <td>0</td>\n      <td>...</td>\n      <td>0</td>\n      <td>0</td>\n      <td>0</td>\n      <td>0</td>\n      <td>0</td>\n      <td>0</td>\n      <td>0</td>\n      <td>0</td>\n      <td>0</td>\n      <td>0</td>\n    </tr>\n    <tr>\n      <th>1979</th>\n      <td>/boxscores/202010020LAL.html</td>\n      <td>Los Angeles Lakers</td>\n      <td>Miami Heat</td>\n      <td>124</td>\n      <td>114</td>\n      <td>W</td>\n      <td>10</td>\n      <td>JaVale McGee</td>\n      <td>0.000000</td>\n      <td>0</td>\n      <td>...</td>\n      <td>0</td>\n      <td>0</td>\n      <td>0</td>\n      <td>0</td>\n      <td>0</td>\n      <td>0</td>\n      <td>0</td>\n      <td>0</td>\n      <td>0</td>\n      <td>0</td>\n    </tr>\n  </tbody>\n</table>\n<p>21124 rows × 25 columns</p>\n</div>"
     },
     "metadata": {},
     "execution_count": 74
    }
   ],
   "source": [
    "#Creates df for each players avg during a season, s\n",
    "def seasondf(s):\n",
    "    year1df = df[df['GAME_ID'].str.contains(str(s) + str(0))] #1st half of the season (Oct - Dec)\n",
    "    year2df = df[df['GAME_ID'].str.contains(str(s + 1) + str(1))] #2nd half of the season (Jan - Apr)\n",
    "    return pd.concat([year1df, year2df], ignore_index = False, sort = False)\n",
    "\n",
    "#Test case for 2019-2020 season\n",
    "seasondf(2019)"
   ]
  },
  {
   "cell_type": "code",
   "execution_count": 90,
   "metadata": {},
   "outputs": [
    {
     "output_type": "execute_result",
     "data": {
      "text/plain": [
       "                        MP        PTS  perMinute\n",
       "PLAYER                                          \n",
       "Aaron Gordon     32.512424  15.618182   0.480376\n",
       "Aaron Holiday     9.151235   3.851852   0.420911\n",
       "Aaron Nesmith     5.713333   1.600000   0.280047\n",
       "Abdel Nader      11.444118   3.843137   0.335818\n",
       "Adam Mokoka       5.441667   1.000000   0.183767\n",
       "...                    ...        ...        ...\n",
       "Zeke Nnaji        1.004167   0.000000   0.000000\n",
       "Zhaire Smith      9.675000   3.333333   0.344531\n",
       "Zion Williamson  30.430000  19.400000   0.637529\n",
       "Álex Abrines      1.889583   0.375000   0.198456\n",
       "Ángel Delgado     3.691667   0.750000   0.203160\n",
       "\n",
       "[662 rows x 3 columns]"
      ],
      "text/html": "<div>\n<style scoped>\n    .dataframe tbody tr th:only-of-type {\n        vertical-align: middle;\n    }\n\n    .dataframe tbody tr th {\n        vertical-align: top;\n    }\n\n    .dataframe thead th {\n        text-align: right;\n    }\n</style>\n<table border=\"1\" class=\"dataframe\">\n  <thead>\n    <tr style=\"text-align: right;\">\n      <th></th>\n      <th>MP</th>\n      <th>PTS</th>\n      <th>perMinute</th>\n    </tr>\n    <tr>\n      <th>PLAYER</th>\n      <th></th>\n      <th></th>\n      <th></th>\n    </tr>\n  </thead>\n  <tbody>\n    <tr>\n      <th>Aaron Gordon</th>\n      <td>32.512424</td>\n      <td>15.618182</td>\n      <td>0.480376</td>\n    </tr>\n    <tr>\n      <th>Aaron Holiday</th>\n      <td>9.151235</td>\n      <td>3.851852</td>\n      <td>0.420911</td>\n    </tr>\n    <tr>\n      <th>Aaron Nesmith</th>\n      <td>5.713333</td>\n      <td>1.600000</td>\n      <td>0.280047</td>\n    </tr>\n    <tr>\n      <th>Abdel Nader</th>\n      <td>11.444118</td>\n      <td>3.843137</td>\n      <td>0.335818</td>\n    </tr>\n    <tr>\n      <th>Adam Mokoka</th>\n      <td>5.441667</td>\n      <td>1.000000</td>\n      <td>0.183767</td>\n    </tr>\n    <tr>\n      <th>...</th>\n      <td>...</td>\n      <td>...</td>\n      <td>...</td>\n    </tr>\n    <tr>\n      <th>Zeke Nnaji</th>\n      <td>1.004167</td>\n      <td>0.000000</td>\n      <td>0.000000</td>\n    </tr>\n    <tr>\n      <th>Zhaire Smith</th>\n      <td>9.675000</td>\n      <td>3.333333</td>\n      <td>0.344531</td>\n    </tr>\n    <tr>\n      <th>Zion Williamson</th>\n      <td>30.430000</td>\n      <td>19.400000</td>\n      <td>0.637529</td>\n    </tr>\n    <tr>\n      <th>Álex Abrines</th>\n      <td>1.889583</td>\n      <td>0.375000</td>\n      <td>0.198456</td>\n    </tr>\n    <tr>\n      <th>Ángel Delgado</th>\n      <td>3.691667</td>\n      <td>0.750000</td>\n      <td>0.203160</td>\n    </tr>\n  </tbody>\n</table>\n<p>662 rows × 3 columns</p>\n</div>"
     },
     "metadata": {},
     "execution_count": 90
    }
   ],
   "source": [
    "#Creates function avg which finds the avg of key statistic (x) during the season (s)\n",
    "def avg(x, s):\n",
    "    yeardf = seasondf(s)\n",
    "    \n",
    "    #Takes avg XPM ((variable) x per minute) of each player in season s\n",
    "    perPlayer = yeardf.loc[:, ['PLAYER', 'MP', x]].groupby('PLAYER')\n",
    "\n",
    "    #Adds XPM columns dividing x by minutes played\n",
    "    avgsdf = perPlayer.mean()\n",
    "    avgsdf['perMinute'] = avgsdf[x] / avgsdf['MP']\n",
    "\n",
    "    return avgsdf\n",
    "\n",
    "''' #Adds minimum requirement of minutes played so not to pick active players\n",
    "    avgsdf = avgsdf.sort_values(by = ['perMinute'], ascending = False) \n",
    "    return avgsdf[avgsdf.MP > 15]'''\n",
    "\n",
    "#Test case for most points per game in 2019-2020 season\n",
    "avg('PTS', 2019)"
   ]
  },
  {
   "cell_type": "code",
   "execution_count": 102,
   "metadata": {},
   "outputs": [
    {
     "output_type": "execute_result",
     "data": {
      "text/plain": [
       "                              MP        PTS        TRB       AST       STL  \\\n",
       "PLAYER                                                                       \n",
       "Giannis Antetokounmpo  29.366667  27.487805  13.878049  5.439024  0.658537   \n",
       "Luka Dončić            33.954274  28.307692   9.153846  8.487179  0.846154   \n",
       "LeBron James           34.494118  25.882353   8.882353  9.392157  1.117647   \n",
       "Joel Embiid            28.963462  23.269231  10.807692  2.538462  1.076923   \n",
       "James Harden           35.984043  30.404255   6.829787  7.617021  1.744681   \n",
       "Kawhi Leonard          33.179710  27.065217   7.065217  4.717391  1.869565   \n",
       "Anthony Davis          31.152244  23.788462   8.423077  3.000000  1.230769   \n",
       "Andre Drummond         26.570556  14.600000  11.866667  2.100000  1.533333   \n",
       "Trae Young             33.493011  28.870968   3.935484  9.774194  0.870968   \n",
       "Kristaps Porziņģis     29.390104  21.875000   8.593750  1.843750  0.718750   \n",
       "Nikola Jokić           33.915254  22.406780   9.677966  6.779661  1.237288   \n",
       "Kyrie Irving           28.603333  23.400000   4.400000  4.900000  1.500000   \n",
       "Bradley Beal           30.767742  29.225806   3.129032  4.741935  1.225806   \n",
       "Karl-Anthony Towns     20.382500  15.850000   5.450000  2.600000  0.450000   \n",
       "Jonas Valančiūnas      27.627083  15.475000  12.600000  1.950000  0.525000   \n",
       "\n",
       "                            BLK       TOV  fantasyPts  \n",
       "PLAYER                                                 \n",
       "Giannis Antetokounmpo  0.902439  3.536585    1.819966  \n",
       "Luka Dončić            0.358974  4.307692    1.511762  \n",
       "LeBron James           0.647059  4.019608    1.504718  \n",
       "Joel Embiid            1.115385  3.307692    1.495518  \n",
       "James Harden           0.914894  4.234043    1.494279  \n",
       "Kawhi Leonard          0.652174  2.065217    1.450271  \n",
       "Anthony Davis          1.653846  2.250000    1.438099  \n",
       "Andre Drummond         1.166667  2.933333    1.398415  \n",
       "Trae Young             0.193548  4.612903    1.398366  \n",
       "Kristaps Porziņģis     1.625000  1.343750    1.382800  \n",
       "Nikola Jokić           0.694915  3.406780    1.373413  \n",
       "Kyrie Irving           0.400000  2.600000    1.368022  \n",
       "Bradley Beal           0.419355  3.000000    1.366010  \n",
       "Karl-Anthony Towns     0.650000  1.900000    1.358518  \n",
       "Jonas Valančiūnas      1.225000  1.575000    1.346324  "
      ],
      "text/html": "<div>\n<style scoped>\n    .dataframe tbody tr th:only-of-type {\n        vertical-align: middle;\n    }\n\n    .dataframe tbody tr th {\n        vertical-align: top;\n    }\n\n    .dataframe thead th {\n        text-align: right;\n    }\n</style>\n<table border=\"1\" class=\"dataframe\">\n  <thead>\n    <tr style=\"text-align: right;\">\n      <th></th>\n      <th>MP</th>\n      <th>PTS</th>\n      <th>TRB</th>\n      <th>AST</th>\n      <th>STL</th>\n      <th>BLK</th>\n      <th>TOV</th>\n      <th>fantasyPts</th>\n    </tr>\n    <tr>\n      <th>PLAYER</th>\n      <th></th>\n      <th></th>\n      <th></th>\n      <th></th>\n      <th></th>\n      <th></th>\n      <th></th>\n      <th></th>\n    </tr>\n  </thead>\n  <tbody>\n    <tr>\n      <th>Giannis Antetokounmpo</th>\n      <td>29.366667</td>\n      <td>27.487805</td>\n      <td>13.878049</td>\n      <td>5.439024</td>\n      <td>0.658537</td>\n      <td>0.902439</td>\n      <td>3.536585</td>\n      <td>1.819966</td>\n    </tr>\n    <tr>\n      <th>Luka Dončić</th>\n      <td>33.954274</td>\n      <td>28.307692</td>\n      <td>9.153846</td>\n      <td>8.487179</td>\n      <td>0.846154</td>\n      <td>0.358974</td>\n      <td>4.307692</td>\n      <td>1.511762</td>\n    </tr>\n    <tr>\n      <th>LeBron James</th>\n      <td>34.494118</td>\n      <td>25.882353</td>\n      <td>8.882353</td>\n      <td>9.392157</td>\n      <td>1.117647</td>\n      <td>0.647059</td>\n      <td>4.019608</td>\n      <td>1.504718</td>\n    </tr>\n    <tr>\n      <th>Joel Embiid</th>\n      <td>28.963462</td>\n      <td>23.269231</td>\n      <td>10.807692</td>\n      <td>2.538462</td>\n      <td>1.076923</td>\n      <td>1.115385</td>\n      <td>3.307692</td>\n      <td>1.495518</td>\n    </tr>\n    <tr>\n      <th>James Harden</th>\n      <td>35.984043</td>\n      <td>30.404255</td>\n      <td>6.829787</td>\n      <td>7.617021</td>\n      <td>1.744681</td>\n      <td>0.914894</td>\n      <td>4.234043</td>\n      <td>1.494279</td>\n    </tr>\n    <tr>\n      <th>Kawhi Leonard</th>\n      <td>33.179710</td>\n      <td>27.065217</td>\n      <td>7.065217</td>\n      <td>4.717391</td>\n      <td>1.869565</td>\n      <td>0.652174</td>\n      <td>2.065217</td>\n      <td>1.450271</td>\n    </tr>\n    <tr>\n      <th>Anthony Davis</th>\n      <td>31.152244</td>\n      <td>23.788462</td>\n      <td>8.423077</td>\n      <td>3.000000</td>\n      <td>1.230769</td>\n      <td>1.653846</td>\n      <td>2.250000</td>\n      <td>1.438099</td>\n    </tr>\n    <tr>\n      <th>Andre Drummond</th>\n      <td>26.570556</td>\n      <td>14.600000</td>\n      <td>11.866667</td>\n      <td>2.100000</td>\n      <td>1.533333</td>\n      <td>1.166667</td>\n      <td>2.933333</td>\n      <td>1.398415</td>\n    </tr>\n    <tr>\n      <th>Trae Young</th>\n      <td>33.493011</td>\n      <td>28.870968</td>\n      <td>3.935484</td>\n      <td>9.774194</td>\n      <td>0.870968</td>\n      <td>0.193548</td>\n      <td>4.612903</td>\n      <td>1.398366</td>\n    </tr>\n    <tr>\n      <th>Kristaps Porziņģis</th>\n      <td>29.390104</td>\n      <td>21.875000</td>\n      <td>8.593750</td>\n      <td>1.843750</td>\n      <td>0.718750</td>\n      <td>1.625000</td>\n      <td>1.343750</td>\n      <td>1.382800</td>\n    </tr>\n    <tr>\n      <th>Nikola Jokić</th>\n      <td>33.915254</td>\n      <td>22.406780</td>\n      <td>9.677966</td>\n      <td>6.779661</td>\n      <td>1.237288</td>\n      <td>0.694915</td>\n      <td>3.406780</td>\n      <td>1.373413</td>\n    </tr>\n    <tr>\n      <th>Kyrie Irving</th>\n      <td>28.603333</td>\n      <td>23.400000</td>\n      <td>4.400000</td>\n      <td>4.900000</td>\n      <td>1.500000</td>\n      <td>0.400000</td>\n      <td>2.600000</td>\n      <td>1.368022</td>\n    </tr>\n    <tr>\n      <th>Bradley Beal</th>\n      <td>30.767742</td>\n      <td>29.225806</td>\n      <td>3.129032</td>\n      <td>4.741935</td>\n      <td>1.225806</td>\n      <td>0.419355</td>\n      <td>3.000000</td>\n      <td>1.366010</td>\n    </tr>\n    <tr>\n      <th>Karl-Anthony Towns</th>\n      <td>20.382500</td>\n      <td>15.850000</td>\n      <td>5.450000</td>\n      <td>2.600000</td>\n      <td>0.450000</td>\n      <td>0.650000</td>\n      <td>1.900000</td>\n      <td>1.358518</td>\n    </tr>\n    <tr>\n      <th>Jonas Valančiūnas</th>\n      <td>27.627083</td>\n      <td>15.475000</td>\n      <td>12.600000</td>\n      <td>1.950000</td>\n      <td>0.525000</td>\n      <td>1.225000</td>\n      <td>1.575000</td>\n      <td>1.346324</td>\n    </tr>\n  </tbody>\n</table>\n</div>"
     },
     "metadata": {},
     "execution_count": 102
    }
   ],
   "source": [
    "'''\n",
    "Insesrting the point Calculator for fantasy basketball\n",
    "Point = 1, Rebound = 1.2, Assist = 1.5, Steal/Block = 3, Turnover = -1\n",
    "\n",
    "*** This calculates based off of minutes played...\n",
    "In other words EFFICIENCY on the court\n",
    "NOT avg fantasy points per game ***\n",
    "\n",
    "'''\n",
    "def fantasydf(s): #average fantasy points for each player during season s\n",
    "    yeardf = seasondf(s)\n",
    "\n",
    "    #Sets up df to calculate avg fantasy points\n",
    "    perPlayer = yeardf.loc[:, ['PLAYER', 'MP', 'PTS', 'TRB', 'AST', 'STL', 'BLK', 'TOV']].groupby('PLAYER')\n",
    "    avgPlayer = perPlayer.mean()\n",
    "\n",
    "    #Gives point value for each player\n",
    "    avgPlayer['fantasyPts'] = avg('PTS',s)['perMinute'] + 1.2 * (avg('TRB',s)['perMinute']) + 1.5 * (avg('AST', s)['perMinute'])\\\n",
    "         + 3 * (avg('STL', s)['perMinute'] + avg('BLK',s)['perMinute']) - avg('TOV',s)['perMinute']\n",
    "    avgPlayer.sort_values(by = ['fantasyPts'], ascending = False)\n",
    "\n",
    "    #Adds minimum requirement of minutes played so not to pick inactive players\n",
    "    avgPlayer = avgPlayer.sort_values(by = ['fantasyPts'], ascending = False)\n",
    "    return avgPlayer[avgPlayer.MP > 10]\n",
    "\n",
    "#Test case for top fantasy points per minute played during 20-21 season\n",
    "fantasydf(2020).head(15)"
   ]
  }
 ]
}